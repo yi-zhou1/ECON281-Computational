{
 "cells": [
  {
   "cell_type": "code",
   "execution_count": 24,
   "metadata": {},
   "outputs": [],
   "source": [
    "import numpy as np\n",
    "import matplotlib.pyplot as plt\n",
    "\n",
    "from blocks_jacobians import firm \n",
    "\n",
    "from sequence_jacobian import grids, misc, interpolate\n",
    "from sequence_jacobian.blocks.support.het_support import lottery_1d\n",
    "from sequence_jacobian.utilities.solvers import newton_solver"
   ]
  },
  {
   "cell_type": "code",
   "execution_count": 25,
   "metadata": {},
   "outputs": [],
   "source": [
    "# Variables\n",
    "K = {'K'}\n",
    "U = {'U'}\n",
    "Y = {'A', 'Y', 'r', 'w'}\n",
    "\n",
    "# Jacobians\n",
    "\n",
    "\n",
    "# parameters\n",
    "eis = 1\n",
    "delta = 0.025\n",
    "alpha = 0.11\n",
    "rho_e = 0.966\n",
    "sd_e = 0.5\n",
    "r = 0.01\n",
    "Y = 1\n",
    "L = 1.0\n",
    "nE = 7\n",
    "nA = 500\n",
    "amin = 0\n",
    "amax = 200\n",
    "T = 100\n",
    "calib = {'eis': eis, 'delta': delta, 'alpha': alpha, 'rho_e': rho_e, 'sd_e': sd_e, 'L': L, 'nE': nE, 'nA': nA, 'amin': amin, 'amax': amax}"
   ]
  },
  {
   "cell_type": "code",
   "execution_count": 26,
   "metadata": {},
   "outputs": [
    {
     "name": "stdout",
     "output_type": "stream",
     "text": [
      "{'r': 0.01, 'Y': 1, 'L': 1.0, 'w': 0.89, 'K': 3.142857142857143, 'A': 3.142857142857143, 'C': 0.9214285714285715, 'Z': 0.8816460975214567}\n"
     ]
    }
   ],
   "source": [
    "# known steady state values\n",
    "ss = {}\n",
    "ss['r'] = r\n",
    "ss['Y'] = Y\n",
    "ss['L'] = L\n",
    "ss['w'] = (1 - alpha) * ss['Y'] / ss['L']\n",
    "ss['K'] = alpha * ss['Y'] / (ss['r'] + delta)\n",
    "ss['A'] = ss['K']\n",
    "ss['C'] = ss['Y'] - delta * ss['K']\n",
    "ss['Z'] = ss['Y'] / (ss['K'] ** alpha * ss['L'] ** (1 - alpha))\n",
    "\n",
    "print(ss)"
   ]
  },
  {
   "cell_type": "code",
   "execution_count": 27,
   "metadata": {},
   "outputs": [],
   "source": [
    "# grids and initial conditions\n",
    "e_grid, _, Pi = grids.markov_rouwenhorst(rho=rho_e, sigma=sd_e, N=nE)\n",
    "a_grid = grids.agrid(amin=amin, amax=amax, n=nA)"
   ]
  },
  {
   "cell_type": "code",
   "execution_count": 28,
   "metadata": {},
   "outputs": [],
   "source": [
    "# analytical Jacobians from firm block\n",
    "J = firm(calib, ss, T)"
   ]
  },
  {
   "cell_type": "code",
   "execution_count": 29,
   "metadata": {},
   "outputs": [],
   "source": [
    "# define backward step\n",
    "def backward_step(Va_p, Pi, a_grid, e_grid, r, w, beta, eis):  # Va_p is t+1 time, so given Va_t+1, solve for Va_t\n",
    "    uc_nextgrid = beta * (Pi @ Va_p)\n",
    "    c_nextgrid = uc_nextgrid ** (-eis)\n",
    "    coh = (1 + r) * a_grid[np.newaxis, :] + w * e_grid[:, np.newaxis]  #coh, cash on hand\n",
    "    a = interpolate.interpolate_y(c_nextgrid + a_grid, coh, a_grid)\n",
    "    misc.setmin(a, a_grid[0])\n",
    "    c = coh - a\n",
    "    Va = (1 + r) * c ** (-1 / eis) # mariginal value of wealth\n",
    "    return Va, a, c\n",
    "\n",
    "# steady state solver\n",
    "def solve_steady_state_policy(Va0, Pi, a_grid, e_grid, r, w, beta, eis):\n",
    "    Va = Va0\n",
    "    for n in range(1000):\n",
    "        Va, a, c = backward_step(Va, Pi, a_grid, e_grid, r, w, beta, eis)\n",
    "        if np.max(np.abs(Va - Va0)) < 1e-8:\n",
    "            print(f'Converged after {n} iterations')\n",
    "            break\n",
    "        Va0 = Va\n",
    "    return Va, a, c\n",
    "\n",
    "# computes the transition matrix based on policy function for assets\n",
    "def compute_transition_matrix(a, a_grid, e_grid, Pi):\n",
    "    nE = e_grid.shape[0]\n",
    "    nA = a_grid.shape[0]\n",
    "\n",
    "    # deterministic lottery allocation\n",
    "    lottery = lottery_1d(a, a_grid, monotonic=False)\n",
    "\n",
    "    # transition matrix built from lottery\n",
    "    Lambda = np.zeros((nE, nA, nE, nA))\n",
    "    for i in range(nE):\n",
    "        for j in range(nA):\n",
    "            Lambda[i, j, :, lottery.i[i, j]] = Pi[i, :] * lottery.pi[i, j]\n",
    "            Lambda[i, j, :, lottery.i[i, j] + 1] = Pi[i, :] * (1 - lottery.pi[i, j])\n",
    "\n",
    "    # matrix form to compute transition matrix\n",
    "    Lambda = Lambda.reshape(nA * nE, nA * nE)\n",
    "\n",
    "    return Lambda\n",
    "\n",
    "# iterates on the distribution until convergence\n",
    "def compute_steady_state_distribution(a, a_grid, e_grid, Pi):\n",
    "\n",
    "    Lambda = compute_transition_matrix(a, a_grid, e_grid, Pi)\n",
    "\n",
    "    nE = e_grid.shape[0]\n",
    "    nA = a_grid.shape[0]\n",
    "\n",
    "    D = np.ones(nE * nA) / (nE * nA)\n",
    "    for n in range(10000):\n",
    "        D = Lambda.T @ D\n",
    "        if np.max(np.abs(D - D @ Lambda)) < 1e-8:\n",
    "            D = D.reshape(nE, nA)\n",
    "            print(f'Converged after {n} iterations')\n",
    "            break\n",
    "    return D, Lambda\n"
   ]
  },
  {
   "cell_type": "code",
   "execution_count": 30,
   "metadata": {},
   "outputs": [
    {
     "name": "stdout",
     "output_type": "stream",
     "text": [
      "Converged after 361 iterations\n",
      "Converged after 513 iterations\n",
      "Converged after 361 iterations\n",
      "Converged after 513 iterations\n",
      "On iteration 0\n",
      "x = 0.981\n",
      "y = -0.554\n",
      "\n",
      "\n",
      "Converged after 362 iterations\n",
      "Converged after 513 iterations\n",
      "Converged after 391 iterations\n",
      "Converged after 568 iterations\n",
      "On iteration 1\n",
      "x = 0.982\n",
      "y = 0.080\n",
      "\n",
      "\n",
      "Converged after 391 iterations\n",
      "Converged after 569 iterations\n",
      "Converged after 387 iterations\n",
      "Converged after 561 iterations\n",
      "On iteration 2\n",
      "x = 0.982\n",
      "y = 0.001\n",
      "\n",
      "\n",
      "Converged after 388 iterations\n",
      "Converged after 562 iterations\n",
      "Converged after 387 iterations\n",
      "Converged after 561 iterations\n",
      "On iteration 3\n",
      "x = 0.982\n",
      "y = 0.000\n",
      "\n",
      "\n",
      "Converged after 388 iterations\n",
      "Converged after 562 iterations\n",
      "Converged after 387 iterations\n",
      "Converged after 561 iterations\n",
      "On iteration 4\n",
      "x = 0.982\n",
      "y = 0.000\n",
      "\n",
      "\n",
      "Converged after 388 iterations\n",
      "Converged after 562 iterations\n",
      "Converged after 387 iterations\n",
      "Converged after 561 iterations\n",
      "On iteration 5\n",
      "x = 0.982\n",
      "y = 0.000\n",
      "\n",
      "\n",
      "[0.98195277]\n",
      "Converged after 387 iterations\n",
      "Converged after 561 iterations\n"
     ]
    }
   ],
   "source": [
    "# solve for beta such that asset demand is at steady state\n",
    "coh = (1 + r) * a_grid[np.newaxis, :] + ss['w'] * e_grid[:, np.newaxis]\n",
    "Va0 = (1 + r) * (0.1 * coh) ** (-1 / eis)\n",
    "\n",
    "beta = 0.981\n",
    "Va, a, c = solve_steady_state_policy(Va0, Pi, a_grid, e_grid, ss['r'], ss['w'], beta, eis)\n",
    "D, Lambda = compute_steady_state_distribution(a, a_grid, e_grid, Pi)\n",
    "\n",
    "# find beta that solves the market clearing problem in steady state\n",
    "def objective(beta):\n",
    "    Va, a, c = solve_steady_state_policy(Va0, Pi, a_grid, e_grid, ss['r'], ss['w'], beta, eis)\n",
    "    D, Lambda = compute_steady_state_distribution(a, a_grid, e_grid, Pi)\n",
    "    A = np.sum(D @ a_grid)\n",
    "    return np.array([A - ss['A']])\n",
    "\n",
    "beta, feval = newton_solver(objective, np.array([beta]))\n",
    "\n",
    "print(beta)\n",
    "\n",
    "calib['beta'] = beta\n",
    "\n",
    "Va, a, c = solve_steady_state_policy(Va0, Pi, a_grid, e_grid, ss['r'], ss['w'], calib['beta'], eis)\n",
    "D, Lambda = compute_steady_state_distribution(a, a_grid, e_grid, Pi)\n",
    "\n",
    "ss['Va'] = Va\n",
    "ss['a'] = a\n",
    "ss['c'] = c\n",
    "ss['D'] = D\n",
    "ss['Lambda'] = Lambda"
   ]
  },
  {
   "cell_type": "code",
   "execution_count": 34,
   "metadata": {},
   "outputs": [
    {
     "data": {
      "image/png": "[encoded data removed]",
      "text/plain": [
       "<Figure size 640x480 with 1 Axes>"
      ]
     },
     "metadata": {},
     "output_type": "display_data"
    },
    {
     "data": {
      "image/png": "[encoded data removed]",
      "text/plain": [
       "<Figure size 640x480 with 1 Axes>"
      ]
     },
     "metadata": {},
     "output_type": "display_data"
    }
   ],
   "source": [
    "# define r sequence\n",
    "dx = 1e-3\n",
    "dA_seq = np.zeros(T,)\n",
    "dr_seq = np.zeros(T + 1,)\n",
    "dr_seq[0] = dx\n",
    "\n",
    "# solve backward step starting at T + 1\n",
    "Va_p = ss['Va']\n",
    "a_seq = np.zeros((nE, nA, T + 1))\n",
    "for t in range(T, -1, -1):\n",
    "    Va_p, a_seq[:, :, t], c = backward_step(Va_p, Pi, a_grid, e_grid, ss['r'] + dr_seq[t], ss['w'], calib['beta'], eis)\n",
    "\n",
    "\n",
    "# solve forward step starting at t = 0\n",
    "D = ss['D']\n",
    "for t in range(0, T, 1):\n",
    "    dA_seq[t] = (np.sum(D @ a_grid) - ss['A']) / dx\n",
    "    Lambda = compute_transition_matrix(a_seq[:, :, t], a_grid, e_grid, Pi)\n",
    "    D = Lambda.T @ D.reshape(nE * nA,)\n",
    "    D = D.reshape(nE, nA)\n",
    "\n",
    "# plor IRF of assets and interest rate\n",
    "plt.figure()\n",
    "plt.plot(dA_seq)\n",
    "plt.xlabel('Time')\n",
    "plt.ylabel('Assets')\n",
    "plt.show()\n",
    "\n",
    "plt.figure()\n",
    "plt.plot(dr_seq)\n",
    "plt.xlabel('Time')\n",
    "plt.ylabel('Interest rate')\n",
    "plt.show()\n"
   ]
  },
  {
   "cell_type": "code",
   "execution_count": null,
   "metadata": {},
   "outputs": [],
   "source": [
    "# create fake news matrix\n"
   ]
  }
 ],
 "metadata": {
  "kernelspec": {
   "display_name": "base",
   "language": "python",
   "name": "python3"
  },
  "language_info": {
   "codemirror_mode": {
    "name": "ipython",
    "version": 3
   },
   "file_extension": ".py",
   "mimetype": "text/x-python",
   "name": "python",
   "nbconvert_exporter": "python",
   "pygments_lexer": "ipython3",
   "version": "3.11.5"
  }
 },
 "nbformat": 4,
 "nbformat_minor": 2
}
